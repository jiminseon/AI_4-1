{
  "nbformat": 4,
  "nbformat_minor": 0,
  "metadata": {
    "colab": {
      "provenance": []
    },
    "kernelspec": {
      "name": "python3",
      "display_name": "Python 3"
    },
    "language_info": {
      "name": "python"
    }
  },
  "cells": [
    {
      "cell_type": "code",
      "execution_count": null,
      "metadata": {
        "colab": {
          "base_uri": "https://localhost:8080/"
        },
        "id": "TYodZFwR7Znc",
        "outputId": "8c010403-f49e-40a3-9e15-99bed6a7957d"
      },
      "outputs": [
        {
          "output_type": "stream",
          "name": "stdout",
          "text": [
            "첫번째 학습셋 입력:  유시민 검찰도 사법도 썩었지 vs 진중권 유시민 망상 대중은 현실로 믿어\n",
            "첫번째 테스트셋 입력:  박준영 “도자기 집에서 사용” 김선교 “궁궐 살았나”\n",
            "첫번째 학습셋 결과 one-hot 출력:  [1. 0. 0. 0.]\n",
            "첫번째 테스트셋 결과 one-hot 출력:  [1. 0. 0. 0.]\n"
          ]
        }
      ],
      "source": [
        "import numpy\n",
        "import pandas as pd\n",
        "import tensorflow as tf\n",
        "import matplotlib.pyplot as plt\n",
        "\n",
        "from keras.utils import to_categorical\n",
        "from keras.preprocessing.text import Tokenizer\n",
        "from keras.preprocessing.text import text_to_word_sequence\n",
        "from keras.preprocessing.sequence import pad_sequences\n",
        "from keras.preprocessing import sequence\n",
        "\n",
        "from keras.models import Sequential\n",
        "from keras.layers import Dense, Dropout, Activation\n",
        "from keras.layers import Embedding\n",
        "from keras.layers import LSTM\n",
        "from keras.layers import Conv1D, MaxPooling1D\n",
        "\n",
        "#seed 값 설정\n",
        "numpy.random.seed(3)\n",
        "tf.random.set_seed(3)\n",
        "\n",
        "train_data = pd.read_csv('/content/drive/MyDrive/인공지능/13week/train_SectionDataset.csv', header=0, names=['title', 'section'])\n",
        "X_train = train_data['title']\n",
        "Y_train = train_data['section']\n",
        "test_data = pd.read_csv('/content/drive/MyDrive/인공지능/13week/test_SectionDataset.csv', header=0)\n",
        "X_test = test_data['title']\n",
        "Y_test = test_data['section']\n",
        "\n",
        "# 데이터 확인하기\n",
        "print(\"첫번째 학습셋 입력: \", X_train[0])\n",
        "print(\"첫번째 테스트셋 입력: \", X_test[0])\n",
        "Y_train_onehot = to_categorical(Y_train)\n",
        "Y_test_onehot = to_categorical(Y_test)\n",
        "print(\"첫번째 학습셋 결과 one-hot 출력: \", Y_train_onehot[0])\n",
        "print(\"첫번째 테스트셋 결과 one-hot 출력: \", Y_test_onehot[0])"
      ]
    },
    {
      "cell_type": "code",
      "source": [
        "token = Tokenizer()\n",
        "token.fit_on_texts(X_train)\n",
        "#print(token.word_index)\n",
        "x_train = token.texts_to_sequences(X_train)"
      ],
      "metadata": {
        "id": "nRFAgUj4AT8v"
      },
      "execution_count": null,
      "outputs": []
    },
    {
      "cell_type": "code",
      "source": [
        "train_max = max(len(item) for item in x_train)\n",
        "print(\"학습셋 제목 최대 길이: \", train_max)"
      ],
      "metadata": {
        "colab": {
          "base_uri": "https://localhost:8080/"
        },
        "id": "ifa-ELpPAWe-",
        "outputId": "6f0b3208-03a4-4452-df52-94cc98693105"
      },
      "execution_count": null,
      "outputs": [
        {
          "output_type": "stream",
          "name": "stdout",
          "text": [
            "학습셋 제목 최대 길이:  18\n"
          ]
        }
      ]
    },
    {
      "cell_type": "code",
      "source": [
        "x_test = token.texts_to_sequences(X_test)\n",
        "test_max = max(len(item) for item in x_test)\n",
        "print(\"테스트셋 제목 최대 길이: \", test_max)"
      ],
      "metadata": {
        "colab": {
          "base_uri": "https://localhost:8080/"
        },
        "id": "rIxNrKrZAYtm",
        "outputId": "16fc6b03-be8f-417c-814e-3f6cee6b4ae3"
      },
      "execution_count": null,
      "outputs": [
        {
          "output_type": "stream",
          "name": "stdout",
          "text": [
            "테스트셋 제목 최대 길이:  10\n"
          ]
        }
      ]
    },
    {
      "cell_type": "code",
      "source": [
        "word_size = len(token.word_index) + 1\n",
        "print(\"전체 데이터셋 단어 토큰 개수: \", word_size)"
      ],
      "metadata": {
        "colab": {
          "base_uri": "https://localhost:8080/"
        },
        "id": "WkvNBMFQDHhP",
        "outputId": "6e04d950-ab4f-40e1-8f69-cad912951108"
      },
      "execution_count": null,
      "outputs": [
        {
          "output_type": "stream",
          "name": "stdout",
          "text": [
            "전체 데이터셋 단어 토큰 개수:  22844\n"
          ]
        }
      ]
    },
    {
      "cell_type": "code",
      "source": [
        "print(\"첫번째 학습셋 토큰 결과: \",  x_train[0])\n",
        "print(\"첫번째 테스트셋 토큰 결과: \",  x_test[0])"
      ],
      "metadata": {
        "colab": {
          "base_uri": "https://localhost:8080/"
        },
        "id": "rzJEvtvCBFy2",
        "outputId": "99a50483-f6ad-4ae7-fcf8-d32b15a1e981"
      },
      "execution_count": null,
      "outputs": [
        {
          "output_type": "stream",
          "name": "stdout",
          "text": [
            "첫번째 학습셋 토큰 결과:  [238, 7160, 7161, 7162, 122, 404, 238, 7163, 7164, 4269, 4270]\n",
            "첫번째 테스트셋 토큰 결과:  [1200]\n"
          ]
        }
      ]
    },
    {
      "cell_type": "code",
      "source": [
        "x_train = pad_sequences(x_train, train_max)\n",
        "print(\"첫번째 학습셋 패딩 토큰: \", x_train[0])\n",
        "\n",
        "x_test = pad_sequences(x_test, train_max)\n",
        "print(\"첫번째 테스트셋 패딩 토큰: \", x_test[0])"
      ],
      "metadata": {
        "colab": {
          "base_uri": "https://localhost:8080/"
        },
        "id": "Pv9QEob9A9d_",
        "outputId": "32e7a52b-259a-449c-ba7e-8c4948a65bc5"
      },
      "execution_count": null,
      "outputs": [
        {
          "output_type": "stream",
          "name": "stdout",
          "text": [
            "첫번째 학습셋 패딩 토큰:  [   0    0    0    0    0    0    0  238 7160 7161 7162  122  404  238\n",
            " 7163 7164 4269 4270]\n",
            "첫번째 테스트셋 패딩 토큰:  [   0    0    0    0    0    0    0    0    0    0    0    0    0    0\n",
            "    0    0    0 1200]\n"
          ]
        }
      ]
    },
    {
      "cell_type": "code",
      "source": [
        "# 모델의 설정\n",
        "model = Sequential()\n",
        "model.add(Embedding(word_size, 100))\n",
        "model.add(Dropout(0.5))\n",
        "model.add(Conv1D(64, 5, padding='valid', activation='relu',strides=1))\n",
        "model.add(MaxPooling1D(pool_size=4))\n",
        "model.add(LSTM(55))\n",
        "model.add(Dense(4))\n",
        "model.add(Activation('softmax'))\n",
        "model.summary()\n",
        "\n",
        "# 모델의 컴파일\n",
        "model.compile(loss='sparse_categorical_crossentropy',\n",
        "              optimizer='adam',\n",
        "              metrics=['accuracy'])\n",
        "\n",
        "# 모델의 실행\n",
        "history = model.fit(x_train, Y_train, batch_size=100, epochs=5, validation_data=(x_test, Y_test))\n",
        "\n",
        "# 테스트 정확도 출력\n",
        "print(\"\\n Test Accuracy: %.4f\" % (model.evaluate(x_test, Y_test)[1]))\n",
        "\n",
        "\n",
        "# 테스트 셋의 오차\n",
        "y_vloss = history.history['val_loss']\n",
        "\n",
        "# 학습셋의 오차\n",
        "y_loss = history.history['loss']\n",
        "\n",
        "# 그래프로 표현\n",
        "x_len = numpy.arange(len(y_loss))\n",
        "plt.plot(x_len, y_vloss, marker='.', c=\"red\", label='Testset_loss')\n",
        "plt.plot(x_len, y_loss, marker='.', c=\"blue\", label='Trainset_loss')\n",
        "\n",
        "# 그래프에 그리드를 주고 레이블을 표시\n",
        "plt.legend(loc='upper right')\n",
        "plt.grid()\n",
        "plt.xlabel('epoch')\n",
        "plt.ylabel('loss')\n",
        "plt.show()"
      ],
      "metadata": {
        "colab": {
          "base_uri": "https://localhost:8080/",
          "height": 1000
        },
        "id": "YYB0JcG3C87g",
        "outputId": "d0cb938a-d8e3-471c-d5b6-1551c5413e1e"
      },
      "execution_count": null,
      "outputs": [
        {
          "output_type": "stream",
          "name": "stdout",
          "text": [
            "Model: \"sequential_11\"\n",
            "_________________________________________________________________\n",
            " Layer (type)                Output Shape              Param #   \n",
            "=================================================================\n",
            " embedding_11 (Embedding)    (None, None, 100)         2284400   \n",
            "                                                                 \n",
            " dropout_9 (Dropout)         (None, None, 100)         0         \n",
            "                                                                 \n",
            " conv1d_9 (Conv1D)           (None, None, 64)          32064     \n",
            "                                                                 \n",
            " max_pooling1d_9 (MaxPoolin  (None, None, 64)          0         \n",
            " g1D)                                                            \n",
            "                                                                 \n",
            " lstm_9 (LSTM)               (None, 55)                26400     \n",
            "                                                                 \n",
            " dense_9 (Dense)             (None, 4)                 224       \n",
            "                                                                 \n",
            " activation_9 (Activation)   (None, 4)                 0         \n",
            "                                                                 \n",
            "=================================================================\n",
            "Total params: 2343088 (8.94 MB)\n",
            "Trainable params: 2343088 (8.94 MB)\n",
            "Non-trainable params: 0 (0.00 Byte)\n",
            "_________________________________________________________________\n",
            "Epoch 1/5\n",
            "100/100 [==============================] - 8s 48ms/step - loss: 1.3320 - accuracy: 0.3441 - val_loss: 1.4524 - val_accuracy: 0.3483\n",
            "Epoch 2/5\n",
            "100/100 [==============================] - 4s 40ms/step - loss: 0.7854 - accuracy: 0.6824 - val_loss: 1.7124 - val_accuracy: 0.4382\n",
            "Epoch 3/5\n",
            "100/100 [==============================] - 5s 48ms/step - loss: 0.4431 - accuracy: 0.8387 - val_loss: 2.0900 - val_accuracy: 0.4551\n",
            "Epoch 4/5\n",
            "100/100 [==============================] - 5s 49ms/step - loss: 0.2917 - accuracy: 0.8945 - val_loss: 2.3477 - val_accuracy: 0.4101\n",
            "Epoch 5/5\n",
            "100/100 [==============================] - 4s 40ms/step - loss: 0.2377 - accuracy: 0.9084 - val_loss: 2.3865 - val_accuracy: 0.3933\n",
            "6/6 [==============================] - 0s 9ms/step - loss: 2.3865 - accuracy: 0.3933\n",
            "\n",
            " Test Accuracy: 0.3933\n"
          ]
        },
        {
          "output_type": "display_data",
          "data": {
            "text/plain": [
              "<Figure size 640x480 with 1 Axes>"
            ],
            "image/png": "[encoded data removed]"
          },
          "metadata": {}
        }
      ]
    },
    {
      "cell_type": "code",
      "source": [
        "prediction = model.predict(x_test)\n",
        "\n",
        "for i in range(3):\n",
        "  print(\"Index: %d 실제 문장: %s\" % (0, X_test[i]))\n",
        "  print(\"padded sequence: \", x_test[i])\n",
        "  print(\"예측 결과: \", prediction[i])\n",
        "  print(\"Acutual Section: %d, Expected Section %d\" % (Y_test[i], numpy.argmax(prediction[i])))"
      ],
      "metadata": {
        "colab": {
          "base_uri": "https://localhost:8080/"
        },
        "id": "udG698d6EfE4",
        "outputId": "79288efa-2711-4fff-f423-d28c64ae16f0"
      },
      "execution_count": null,
      "outputs": [
        {
          "output_type": "stream",
          "name": "stdout",
          "text": [
            "6/6 [==============================] - 1s 3ms/step\n",
            "Index: 0 실제 문장: 박준영 “도자기 집에서 사용” 김선교 “궁궐 살았나”\n",
            "padded sequence:  [   0    0    0    0    0    0    0    0    0    0    0    0    0    0\n",
            "    0    0    0 1200]\n",
            "예측 결과:  [0.16405934 0.12004823 0.6890668  0.0268255 ]\n",
            "Acutual Section: 0, Expected Section 2\n",
            "Index: 0 실제 문장: 박준영 아내 도자기 의혹 사과...카페 운영 중단\n",
            "padded sequence:  [    0     0     0     0     0     0     0     0     0     0     0     0\n",
            "  1359   359 11567  6036   284   128]\n",
            "예측 결과:  [0.13687177 0.01406331 0.84700596 0.00205895]\n",
            "Acutual Section: 0, Expected Section 2\n",
            "Index: 0 실제 문장: 배우자 도자기 의혹 박준영 해당 카페 운영 않을 계획\n",
            "padded sequence:  [   0    0    0    0    0    0    0    0    0    0    0    0  359 6024\n",
            " 6036  284 1427 2118]\n",
            "예측 결과:  [0.5513308  0.08564888 0.12475462 0.23826574]\n",
            "Acutual Section: 0, Expected Section 0\n"
          ]
        }
      ]
    }
  ]
}