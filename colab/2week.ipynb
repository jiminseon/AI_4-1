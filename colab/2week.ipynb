{
  "nbformat": 4,
  "nbformat_minor": 0,
  "metadata": {
    "colab": {
      "provenance": [],
      "toc_visible": true
    },
    "kernelspec": {
      "name": "python3",
      "display_name": "Python 3"
    },
    "language_info": {
      "name": "python"
    }
  },
  "cells": [
    {
      "cell_type": "code",
      "execution_count": null,
      "metadata": {
        "id": "7Lri9MszwdoO"
      },
      "outputs": [],
      "source": []
    },
    {
      "cell_type": "code",
      "source": [
        "import numpy as np\n",
        "\n",
        "aa=np.random.randint(1,99,size=(2, 8))\n",
        "print(aa.shape)\n",
        "print(aa.shape[0])\n",
        "print(aa.shape[1])\n",
        "print(aa)\n",
        "\n",
        "print(type(aa))"
      ],
      "metadata": {
        "colab": {
          "base_uri": "https://localhost:8080/"
        },
        "id": "U8WFScDKX2tH",
        "outputId": "7bb6fd79-9697-4397-d5f9-9a2a888c9249"
      },
      "execution_count": null,
      "outputs": [
        {
          "output_type": "stream",
          "name": "stdout",
          "text": [
            "(2, 8)\n",
            "2\n",
            "8\n",
            "[[67 34 53 25 36 12 93 75]\n",
            " [30 22 22 84 52 55 34 56]]\n",
            "<class 'numpy.ndarray'>\n"
          ]
        }
      ]
    },
    {
      "cell_type": "code",
      "source": [
        "allMax = -1\n",
        "subMaxZero = -1\n",
        "subMaxOne = -1\n",
        "for i in range(aa.shape[1]) :\n",
        "  if (aa[0][i] >= subMaxZero ):\n",
        "    subMaxZero = aa[0][i]\n",
        "  if (aa[1][i] >= subMaxOne):\n",
        "    subMaxOne = aa[1][i]\n",
        "\n",
        "if (subMaxZero >= subMaxOne) :\n",
        "  allMax = subMaxZero\n",
        "else:\n",
        " allMax = subMaxOne\n",
        "\n",
        "print('All Max: ' ,allMax)\n",
        "print('SubMax 0: ' ,subMaxZero)\n",
        "print('SubMax 1: ' ,subMaxOne)"
      ],
      "metadata": {
        "colab": {
          "base_uri": "https://localhost:8080/"
        },
        "id": "_Mf-0VuwYlGD",
        "outputId": "5108a2ab-2d56-48e9-b1db-fa18d52f1a35"
      },
      "execution_count": null,
      "outputs": [
        {
          "output_type": "stream",
          "name": "stdout",
          "text": [
            "All Max:  93\n",
            "SubMax 0:  93\n",
            "SubMax 1:  84\n"
          ]
        }
      ]
    },
    {
      "cell_type": "code",
      "source": [
        "b = aa.reshape(2, 2, 4)\n",
        "print(b.shape)\n",
        "print(b)"
      ],
      "metadata": {
        "colab": {
          "base_uri": "https://localhost:8080/"
        },
        "id": "PaYgFdPraAEv",
        "outputId": "cfa419a2-3469-4471-d1d9-5729a49e59d1"
      },
      "execution_count": null,
      "outputs": [
        {
          "output_type": "stream",
          "name": "stdout",
          "text": [
            "(2, 2, 4)\n",
            "[[[67 34 53 25]\n",
            "  [36 12 93 75]]\n",
            "\n",
            " [[30 22 22 84]\n",
            "  [52 55 34 56]]]\n"
          ]
        }
      ]
    },
    {
      "cell_type": "code",
      "source": [
        "print('새로운 c벡터')\n",
        "\n",
        "c=b.copy()\n",
        "c[:,:,:2] = b[:,:,2:]\n",
        "c[:,:,2:]=b[:,:,:2]\n",
        "print(c)"
      ],
      "metadata": {
        "colab": {
          "base_uri": "https://localhost:8080/"
        },
        "id": "SL8ztKnbe3tv",
        "outputId": "e228e1a0-2234-4689-e7d7-c8cc10b68128"
      },
      "execution_count": null,
      "outputs": [
        {
          "output_type": "stream",
          "name": "stdout",
          "text": [
            "새로운 c벡터\n",
            "[[[53 25 67 34]\n",
            "  [93 75 36 12]]\n",
            "\n",
            " [[22 84 30 22]\n",
            "  [34 56 52 55]]]\n"
          ]
        }
      ]
    },
    {
      "cell_type": "code",
      "source": [
        "#slice\n",
        "import numpy as np\n",
        "x=np.array([1,2,3,])\n",
        "x\n",
        "print(x)\n",
        "\n",
        "x = [2, 4, 6, 8, 10, 12]\n",
        "print(x[:3])"
      ],
      "metadata": {
        "colab": {
          "base_uri": "https://localhost:8080/"
        },
        "id": "BBwBDBcOgigX",
        "outputId": "7a2cdeb7-0ec7-4676-e6cb-2bd45fbcfa80"
      },
      "execution_count": null,
      "outputs": [
        {
          "output_type": "stream",
          "name": "stdout",
          "text": [
            "[1 2 3]\n",
            "[2, 4, 6]\n"
          ]
        }
      ]
    }
  ]
}